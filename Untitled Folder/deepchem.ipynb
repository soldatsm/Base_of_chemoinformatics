{
 "cells": [
  {
   "cell_type": "code",
   "execution_count": 1,
   "id": "5a0d498f",
   "metadata": {},
   "outputs": [],
   "source": [
    "import deepchem as dc"
   ]
  },
  {
   "cell_type": "code",
   "execution_count": 3,
   "id": "bbf92616",
   "metadata": {},
   "outputs": [
    {
     "data": {
      "text/plain": [
       "'2.5.0'"
      ]
     },
     "execution_count": 3,
     "metadata": {},
     "output_type": "execute_result"
    }
   ],
   "source": [
    "dc.__version__"
   ]
  },
  {
   "cell_type": "code",
   "execution_count": 4,
   "id": "a6256329",
   "metadata": {},
   "outputs": [],
   "source": [
    "import tensorflow as tf"
   ]
  },
  {
   "cell_type": "code",
   "execution_count": 5,
   "id": "b2701a5c",
   "metadata": {},
   "outputs": [
    {
     "data": {
      "text/plain": [
       "'2.6.0'"
      ]
     },
     "execution_count": 5,
     "metadata": {},
     "output_type": "execute_result"
    }
   ],
   "source": [
    "tf.__version__"
   ]
  },
  {
   "cell_type": "markdown",
   "id": "fb227450",
   "metadata": {},
   "source": [
    "# DeepChem basic tools from deepchem/tutorials"
   ]
  },
  {
   "cell_type": "code",
   "execution_count": 6,
   "id": "c224f10c",
   "metadata": {},
   "outputs": [],
   "source": [
    "tasks, datasets, transformers = dc.molnet.load_delaney(featurizer='GraphConv')\n",
    "train_dataset, valid_dataset, test_dataset = datasets"
   ]
  },
  {
   "cell_type": "code",
   "execution_count": 7,
   "id": "b3f5f0c2",
   "metadata": {},
   "outputs": [],
   "source": [
    "model = dc.models.GraphConvModel(n_tasks=1, mode=\"regression\", dropout=0.2)"
   ]
  },
  {
   "cell_type": "code",
   "execution_count": null,
   "id": "698744ef",
   "metadata": {},
   "outputs": [],
   "source": []
  },
  {
   "cell_type": "code",
   "execution_count": 10,
   "id": "f47259b1",
   "metadata": {},
   "outputs": [
    {
     "name": "stdout",
     "output_type": "stream",
     "text": [
      "CPU times: user 1min, sys: 4.81 s, total: 1min 5s\n",
      "Wall time: 18.3 s\n"
     ]
    },
    {
     "data": {
      "text/plain": [
       "0.06347250257219587"
      ]
     },
     "execution_count": 10,
     "metadata": {},
     "output_type": "execute_result"
    }
   ],
   "source": [
    "%%time\n",
    "model.fit(train_dataset, nb_epoch=100)"
   ]
  },
  {
   "cell_type": "code",
   "execution_count": 11,
   "id": "08df92f1",
   "metadata": {},
   "outputs": [],
   "source": [
    "metric = dc.metrics.Metric(dc.metrics.pearson_r2_score)"
   ]
  },
  {
   "cell_type": "code",
   "execution_count": 12,
   "id": "c97e3783",
   "metadata": {},
   "outputs": [
    {
     "name": "stdout",
     "output_type": "stream",
     "text": [
      "Train set score: {'pearson_r2_score': 0.9496441506631564}\n"
     ]
    }
   ],
   "source": [
    "print(\"Train set score:\", model.evaluate(train_dataset, [metric], transformers))"
   ]
  },
  {
   "cell_type": "code",
   "execution_count": 13,
   "id": "570a9995",
   "metadata": {},
   "outputs": [
    {
     "name": "stdout",
     "output_type": "stream",
     "text": [
      "Test set score: {'pearson_r2_score': 0.7360347444295894}\n"
     ]
    }
   ],
   "source": [
    "print(\"Test set score:\", model.evaluate(test_dataset, [metric], transformers))"
   ]
  },
  {
   "cell_type": "code",
   "execution_count": null,
   "id": "ef0ba70e",
   "metadata": {
    "collapsed": true
   },
   "outputs": [],
   "source": []
  },
  {
   "cell_type": "code",
   "execution_count": 24,
   "id": "7b6cb116",
   "metadata": {},
   "outputs": [],
   "source": [
    "solubilities = model.predict_on_batch(test_dataset.X[:10])"
   ]
  },
  {
   "cell_type": "code",
   "execution_count": 27,
   "id": "71931fc1",
   "metadata": {},
   "outputs": [
    {
     "name": "stdout",
     "output_type": "stream",
     "text": [
      "[-2.2967424] [-1.60114461] c1cc2ccc3cccc4ccc(c1)c2c34\n",
      "[0.7399167] [0.20848251] Cc1cc(=O)[nH]c(=S)[nH]1\n",
      "[-0.654184] [-0.01602738] Oc1ccc(cc1)C2(OC(=O)c3ccccc23)c4ccc(O)cc4 \n",
      "[-2.2806816] [-2.82191713] c1ccc2c(c1)cc3ccc4cccc5ccc2c3c45\n",
      "[-1.855163] [-0.52891635] C1=Cc2cccc3cccc1c23\n",
      "[1.4621861] [1.10168349] CC1CO1\n",
      "[-0.56716275] [-0.88987406] CCN2c1ccccc1N(C)C(=S)c3cccnc23 \n",
      "[-1.0426891] [-0.52649706] CC12CCC3C(CCc4cc(O)ccc34)C2CCC1=O\n",
      "[-1.1763986] [-0.76358725] Cn2cc(c1ccccc1)c(=O)c(c2)c3cccc(c3)C(F)(F)F\n",
      "[0.17658933] [-0.64020358] ClC(Cl)(Cl)C(NC=O)N1C=CN(C=C1)C(NC=O)C(Cl)(Cl)Cl \n"
     ]
    }
   ],
   "source": [
    "for molecule, solubilities, test_solubility in zip(test_dataset.ids, solubilities, test_dataset.y):\n",
    "    print(solubilities, test_solubility, molecule)"
   ]
  },
  {
   "cell_type": "code",
   "execution_count": 31,
   "id": "f34590c7",
   "metadata": {},
   "outputs": [],
   "source": [
    "?test_dataset"
   ]
  },
  {
   "cell_type": "markdown",
   "id": "9dc9faea",
   "metadata": {},
   "source": [
    "`datasets` - это объект deepchem который содержит в себе информацию для машинного обучения"
   ]
  },
  {
   "cell_type": "code",
   "execution_count": 29,
   "id": "05716917",
   "metadata": {},
   "outputs": [
    {
     "data": {
      "text/plain": [
       "array(['c1cc2ccc3cccc4ccc(c1)c2c34', 'Cc1cc(=O)[nH]c(=S)[nH]1',\n",
       "       'Oc1ccc(cc1)C2(OC(=O)c3ccccc23)c4ccc(O)cc4 ',\n",
       "       'c1ccc2c(c1)cc3ccc4cccc5ccc2c3c45', 'C1=Cc2cccc3cccc1c23',\n",
       "       'CC1CO1', 'CCN2c1ccccc1N(C)C(=S)c3cccnc23 ',\n",
       "       'CC12CCC3C(CCc4cc(O)ccc34)C2CCC1=O',\n",
       "       'Cn2cc(c1ccccc1)c(=O)c(c2)c3cccc(c3)C(F)(F)F',\n",
       "       'ClC(Cl)(Cl)C(NC=O)N1C=CN(C=C1)C(NC=O)C(Cl)(Cl)Cl ',\n",
       "       'COc2c1occc1cc3ccc(=O)oc23 ',\n",
       "       'CN2C(=C(O)c1ccccc1S2(=O)=O)C(=O)Nc3ccccn3 ',\n",
       "       'Cc3cc2nc1c(=O)[nH]c(=O)nc1n(CC(O)C(O)C(O)CO)c2cc3C',\n",
       "       'c1ccc(cc1)c2ccc(cc2)c3ccccc3',\n",
       "       'CC34CC(=O)C1C(CCC2=CC(=O)CCC12C)C3CCC4(=O) ',\n",
       "       'c1ccc2c(c1)sc3ccccc23',\n",
       "       'CC23Cc1cnoc1C=C2CCC4C3CCC5(C)C4CCC5(O)C#C',\n",
       "       'OC(C(=O)c1ccccc1)c2ccccc2', 'OCC2OC(Oc1ccccc1CO)C(O)C(O)C2O',\n",
       "       'CC3C2CCC1(C)C=CC(=O)C(=C1C2OC3=O)C', 'O=Cc2ccc1OCOc1c2 ',\n",
       "       'CC1CCCCC1NC(=O)Nc2ccccc2',\n",
       "       'CC(=O)N(S(=O)c1ccc(N)cc1)c2onc(C)c2C ',\n",
       "       'C1N(C(=O)NCC(C)C)C(=O)NC1', 'CNC(=O)Oc1ccccc1C2OCCO2',\n",
       "       'CC1=C(CCCO1)C(=O)Nc2ccccc2 ', 'Cn2c(=O)on(c1ccc(Cl)c(Cl)c1)c2=O',\n",
       "       'C1Cc2cccc3cccc1c23', 'c1ccc2cc3c4cccc5cccc(c3cc2c1)c45',\n",
       "       'Nc1cc(nc(N)n1=O)N2CCCCC2 ',\n",
       "       'O=c2c(C3CCCc4ccccc43)c(O)c1ccccc1o2 ',\n",
       "       'CC(C)C(Nc1ccc(cc1Cl)C(F)(F)F)C(=O)OC(C#N)c2cccc(Oc3ccccc3)c2',\n",
       "       'Cc1c(F)c(F)c(COC(=O)C2C(C=C(Cl)C(F)(F)F)C2(C)C)c(F)c1F',\n",
       "       'c2ccc1[nH]nnc1c2', 'c2ccc1ocnc1c2', 'CCOC(=O)c1cncn1C(C)c2ccccc2',\n",
       "       'CCN2c1ccccc1N(C)C(=O)c3ccccc23 ',\n",
       "       'OCC(O)COC(=O)c1ccccc1Nc2ccnc3cc(Cl)ccc23',\n",
       "       'OCC1OC(OC2C(O)C(O)C(O)OC2CO)C(O)C(O)C1O',\n",
       "       'CC34CCc1c(ccc2cc(O)ccc12)C3CCC4=O',\n",
       "       'ClC1=C(Cl)C(Cl)(C(=C1Cl)Cl)C2(Cl)C(=C(Cl)C(=C2Cl)Cl)Cl',\n",
       "       'ClC1(C(=O)C2(Cl)C3(Cl)C14Cl)C5(Cl)C2(Cl)C3(Cl)C(Cl)(Cl)C45Cl',\n",
       "       'Oc1ccc(c(O)c1)c3oc2cc(O)cc(O)c2c(=O)c3O ', 'C1SC(=S)NC1(=O)',\n",
       "       'ClC(Cl)C(Cl)(Cl)SN2C(=O)C1CC=CCC1C2=O ',\n",
       "       'ClC1=C(Cl)C2(Cl)C3C4CC(C=C4)C3C1(Cl)C2(Cl)Cl',\n",
       "       'CC(=O)Nc1nnc(s1)S(N)(=O)=O ', 'CC1=C(SCCO1)C(=O)Nc2ccccc2',\n",
       "       'CN(C(=O)COc1nc2ccccc2s1)c3ccccc3',\n",
       "       'CN(C(=O)NC(C)(C)c1ccccc1)c2ccccc2', 'Nc1nccs1 ',\n",
       "       'CN(C=Nc1ccc(C)cc1C)C=Nc2ccc(C)cc2C',\n",
       "       'OCC(O)C2OC1OC(OC1C2O)C(Cl)(Cl)Cl ',\n",
       "       'Nc3nc(N)c2nc(c1ccccc1)c(N)nc2n3',\n",
       "       'CC2Nc1cc(Cl)c(cc1C(=O)N2c3ccccc3C)S(N)(=O)=O ',\n",
       "       'CN1CC(O)N(C1=O)c2nnc(s2)C(C)(C)C',\n",
       "       'CCC1(C(=O)NC(=O)NC1=O)C2=CCC3CCC2C3',\n",
       "       'CCC(C)C(=O)OC2CC(C)C=C3C=CC(C)C(CCC1CC(O)CC(=O)O1)C23 ',\n",
       "       'CC2Cc1ccccc1N2NC(=O)c3ccc(Cl)c(c3)S(N)(=O)=O ',\n",
       "       'o1c2ccccc2c3ccccc13', 'O=C(Nc1ccccc1)Nc2ccccc2',\n",
       "       'c1ccc2c(c1)c3cccc4c3c2cc5ccccc54',\n",
       "       'COc1ccc(cc1)C(O)(C2CC2)c3cncnc3 ', 'c1cnc2c(c1)ccc3ncccc23',\n",
       "       'OCC1OC(CO)(OC2OC(COC3OC(CO)C(O)C(O)C3O)C(O)C(O)C2O)C(O)C1O',\n",
       "       'CCOC(=O)c1ccccc1S(=O)(=O)NN(C=O)c2nc(Cl)cc(OC)n2',\n",
       "       'CC34CCC1C(=CCc2cc(O)ccc12)C3CCC4=O',\n",
       "       'CN(C)C(=O)Oc1cc(C)nn1c2ccccc2',\n",
       "       'OC(Cn1cncn1)(c2ccc(F)cc2)c3ccccc3F',\n",
       "       'Cc1c2ccccc2c(C)c3ccc4ccccc4c13',\n",
       "       'Cc3nnc4CN=C(c1ccccc1Cl)c2cc(Cl)ccc2n34',\n",
       "       'Cc3ccnc4N(C1CC1)c2ncccc2C(=O)Nc34 ',\n",
       "       'c1cc2cccc3c4cccc5cccc(c(c1)c23)c54',\n",
       "       'COc1cc(cc(OC)c1O)C6C2C(COC2=O)C(OC4OC3COC(C)OC3C(O)C4O)c7cc5OCOc5cc67',\n",
       "       'O=c1[nH]cnc2nc[nH]c12 ',\n",
       "       'C1C(O)CCC2(C)CC3CCC4(C)C5(C)CC6OCC(C)CC6OC5CC4C3C=C21',\n",
       "       'Cc1ccccc1n3c(C)nc2ccccc2c3=O',\n",
       "       'CCOc1ccc(cc1)C(C)(C)COCc3cccc(Oc2ccccc2)c3',\n",
       "       'CCC1(CCC(=O)NC1=O)c2ccccc2 ',\n",
       "       'CC1CC(C)C(=O)C(C1)C(O)CC2CC(=O)NC(=O)C2 ',\n",
       "       'CC(=O)C3CCC4C2CC=C1CC(O)CCC1(C)C2CCC34C ',\n",
       "       'Cc1ccc(OP(=O)(Oc2cccc(C)c2)Oc3ccccc3C)cc1',\n",
       "       'CSc1nnc(c(=O)n1N)C(C)(C)C', 'Nc1ncnc2n(ccc12)C3OC(CO)C(O)C3O ',\n",
       "       'O=C2NC(=O)C1(CC1)C(=O)N2 ', 'C1Cc2ccccc2C1', 'c1ccc2cnccc2c1',\n",
       "       'OCC1OC(C(O)C1O)n2cnc3c(O)ncnc23',\n",
       "       'c2(Cl)c(Cl)c(Cl)c1nccnc1c2(Cl) ', 'C1OC1c2ccccc2 ',\n",
       "       'CCC(=C(CC)c1ccc(O)cc1)c2ccc(O)cc2 ', 'c1ccc2c(c1)c3cccc4cccc2c34',\n",
       "       'CC(C)C(C(=O)OC(C#N)c1cccc(Oc2ccccc2)c1)c3ccc(OC(F)F)cc3',\n",
       "       'CCCC1COC(Cn2cncn2)(O1)c3ccc(Cl)cc3Cl',\n",
       "       'O=C2CN(N=Cc1ccc(o1)N(=O)=O)C(=O)N2 ', 'NC(=O)c1cnccn1',\n",
       "       'OC4=C(C1CCC(CC1)c2ccc(Cl)cc2)C(=O)c3ccccc3C4=O',\n",
       "       'O=C(Cn1ccnc1N(=O)=O)NCc2ccccc2',\n",
       "       'CCC1(C(=O)NC(=O)NC1=O)C2=CCCCC2 ',\n",
       "       'COC(=O)C1=C(C)NC(=C(C1c2ccccc2N(=O)=O)C(=O)OC)C ',\n",
       "       'O=C2NC(=O)C1(CCC1)C(=O)N2', 'CCCOP(=S)(OCCC)SCC(=O)N1CCCCC1C',\n",
       "       'N(c1ccccc1)c2ccccc2', 'ClC(Cl)=C(c1ccc(Cl)cc1)c2ccc(Cl)cc2',\n",
       "       'O=c2[nH]c1CCCc1c(=O)n2C3CCCCC3', 'CCC1(C(=O)NCNC1=O)c2ccccc2',\n",
       "       'O=C1CCCN1', 'COc5cc4OCC3Oc2c1CC(Oc1ccc2C(=O)C3c4cc5OC)C(C)=C ',\n",
       "       'ClC4=C(Cl)C5(Cl)C3C1CC(C2OC12)C3C4(Cl)C5(Cl)Cl', 'c1ccsc1',\n",
       "       'c1ccc2c(c1)ccc3c2ccc4c5ccccc5ccc43', 'Cc1occc1C(=O)Nc2ccccc2',\n",
       "       'OCC3OC(OCC2OC(OC(C#N)c1ccccc1)C(O)C(O)C2O)C(O)C(O)C3O '],\n",
       "      dtype=object)"
      ]
     },
     "execution_count": 29,
     "metadata": {},
     "output_type": "execute_result"
    }
   ],
   "source": [
    "test_dataset.ids"
   ]
  },
  {
   "cell_type": "code",
   "execution_count": 33,
   "id": "d35186a7",
   "metadata": {},
   "outputs": [
    {
     "data": {
      "text/html": [
       "<div>\n",
       "<style scoped>\n",
       "    .dataframe tbody tr th:only-of-type {\n",
       "        vertical-align: middle;\n",
       "    }\n",
       "\n",
       "    .dataframe tbody tr th {\n",
       "        vertical-align: top;\n",
       "    }\n",
       "\n",
       "    .dataframe thead th {\n",
       "        text-align: right;\n",
       "    }\n",
       "</style>\n",
       "<table border=\"1\" class=\"dataframe\">\n",
       "  <thead>\n",
       "    <tr style=\"text-align: right;\">\n",
       "      <th></th>\n",
       "      <th>X</th>\n",
       "      <th>y</th>\n",
       "      <th>w</th>\n",
       "      <th>ids</th>\n",
       "    </tr>\n",
       "  </thead>\n",
       "  <tbody>\n",
       "    <tr>\n",
       "      <th>0</th>\n",
       "      <td>&lt;deepchem.feat.mol_graphs.ConvMol object at 0x...</td>\n",
       "      <td>-1.601145</td>\n",
       "      <td>1.0</td>\n",
       "      <td>c1cc2ccc3cccc4ccc(c1)c2c34</td>\n",
       "    </tr>\n",
       "    <tr>\n",
       "      <th>1</th>\n",
       "      <td>&lt;deepchem.feat.mol_graphs.ConvMol object at 0x...</td>\n",
       "      <td>0.208483</td>\n",
       "      <td>1.0</td>\n",
       "      <td>Cc1cc(=O)[nH]c(=S)[nH]1</td>\n",
       "    </tr>\n",
       "    <tr>\n",
       "      <th>2</th>\n",
       "      <td>&lt;deepchem.feat.mol_graphs.ConvMol object at 0x...</td>\n",
       "      <td>-0.016027</td>\n",
       "      <td>1.0</td>\n",
       "      <td>Oc1ccc(cc1)C2(OC(=O)c3ccccc23)c4ccc(O)cc4</td>\n",
       "    </tr>\n",
       "    <tr>\n",
       "      <th>3</th>\n",
       "      <td>&lt;deepchem.feat.mol_graphs.ConvMol object at 0x...</td>\n",
       "      <td>-2.821917</td>\n",
       "      <td>1.0</td>\n",
       "      <td>c1ccc2c(c1)cc3ccc4cccc5ccc2c3c45</td>\n",
       "    </tr>\n",
       "    <tr>\n",
       "      <th>4</th>\n",
       "      <td>&lt;deepchem.feat.mol_graphs.ConvMol object at 0x...</td>\n",
       "      <td>-0.528916</td>\n",
       "      <td>1.0</td>\n",
       "      <td>C1=Cc2cccc3cccc1c23</td>\n",
       "    </tr>\n",
       "    <tr>\n",
       "      <th>...</th>\n",
       "      <td>...</td>\n",
       "      <td>...</td>\n",
       "      <td>...</td>\n",
       "      <td>...</td>\n",
       "    </tr>\n",
       "    <tr>\n",
       "      <th>108</th>\n",
       "      <td>&lt;deepchem.feat.mol_graphs.ConvMol object at 0x...</td>\n",
       "      <td>-1.656304</td>\n",
       "      <td>1.0</td>\n",
       "      <td>ClC4=C(Cl)C5(Cl)C3C1CC(C2OC12)C3C4(Cl)C5(Cl)Cl</td>\n",
       "    </tr>\n",
       "    <tr>\n",
       "      <th>109</th>\n",
       "      <td>&lt;deepchem.feat.mol_graphs.ConvMol object at 0x...</td>\n",
       "      <td>0.743629</td>\n",
       "      <td>1.0</td>\n",
       "      <td>c1ccsc1</td>\n",
       "    </tr>\n",
       "    <tr>\n",
       "      <th>110</th>\n",
       "      <td>&lt;deepchem.feat.mol_graphs.ConvMol object at 0x...</td>\n",
       "      <td>-2.420799</td>\n",
       "      <td>1.0</td>\n",
       "      <td>c1ccc2c(c1)ccc3c2ccc4c5ccccc5ccc43</td>\n",
       "    </tr>\n",
       "    <tr>\n",
       "      <th>111</th>\n",
       "      <td>&lt;deepchem.feat.mol_graphs.ConvMol object at 0x...</td>\n",
       "      <td>-0.209570</td>\n",
       "      <td>1.0</td>\n",
       "      <td>Cc1occc1C(=O)Nc2ccccc2</td>\n",
       "    </tr>\n",
       "    <tr>\n",
       "      <th>112</th>\n",
       "      <td>&lt;deepchem.feat.mol_graphs.ConvMol object at 0x...</td>\n",
       "      <td>1.014589</td>\n",
       "      <td>1.0</td>\n",
       "      <td>OCC3OC(OCC2OC(OC(C#N)c1ccccc1)C(O)C(O)C2O)C(O)...</td>\n",
       "    </tr>\n",
       "  </tbody>\n",
       "</table>\n",
       "<p>113 rows × 4 columns</p>\n",
       "</div>"
      ],
      "text/plain": [
       "                                                     X         y    w  \\\n",
       "0    <deepchem.feat.mol_graphs.ConvMol object at 0x... -1.601145  1.0   \n",
       "1    <deepchem.feat.mol_graphs.ConvMol object at 0x...  0.208483  1.0   \n",
       "2    <deepchem.feat.mol_graphs.ConvMol object at 0x... -0.016027  1.0   \n",
       "3    <deepchem.feat.mol_graphs.ConvMol object at 0x... -2.821917  1.0   \n",
       "4    <deepchem.feat.mol_graphs.ConvMol object at 0x... -0.528916  1.0   \n",
       "..                                                 ...       ...  ...   \n",
       "108  <deepchem.feat.mol_graphs.ConvMol object at 0x... -1.656304  1.0   \n",
       "109  <deepchem.feat.mol_graphs.ConvMol object at 0x...  0.743629  1.0   \n",
       "110  <deepchem.feat.mol_graphs.ConvMol object at 0x... -2.420799  1.0   \n",
       "111  <deepchem.feat.mol_graphs.ConvMol object at 0x... -0.209570  1.0   \n",
       "112  <deepchem.feat.mol_graphs.ConvMol object at 0x...  1.014589  1.0   \n",
       "\n",
       "                                                   ids  \n",
       "0                           c1cc2ccc3cccc4ccc(c1)c2c34  \n",
       "1                              Cc1cc(=O)[nH]c(=S)[nH]1  \n",
       "2           Oc1ccc(cc1)C2(OC(=O)c3ccccc23)c4ccc(O)cc4   \n",
       "3                     c1ccc2c(c1)cc3ccc4cccc5ccc2c3c45  \n",
       "4                                  C1=Cc2cccc3cccc1c23  \n",
       "..                                                 ...  \n",
       "108     ClC4=C(Cl)C5(Cl)C3C1CC(C2OC12)C3C4(Cl)C5(Cl)Cl  \n",
       "109                                            c1ccsc1  \n",
       "110                 c1ccc2c(c1)ccc3c2ccc4c5ccccc5ccc43  \n",
       "111                             Cc1occc1C(=O)Nc2ccccc2  \n",
       "112  OCC3OC(OCC2OC(OC(C#N)c1ccccc1)C(O)C(O)C2O)C(O)...  \n",
       "\n",
       "[113 rows x 4 columns]"
      ]
     },
     "execution_count": 33,
     "metadata": {},
     "output_type": "execute_result"
    }
   ],
   "source": [
    "test_dataset.to_dataframe()"
   ]
  },
  {
   "cell_type": "code",
   "execution_count": 34,
   "id": "a689eb63",
   "metadata": {},
   "outputs": [],
   "source": [
    "model = dc.models.GraphConvModel(n_tasks=1, mode='regression', dropout=0.2)"
   ]
  },
  {
   "cell_type": "code",
   "execution_count": 41,
   "id": "336664c0",
   "metadata": {},
   "outputs": [
    {
     "data": {
      "text/plain": [
       "0.05735224723815918"
      ]
     },
     "execution_count": 41,
     "metadata": {},
     "output_type": "execute_result"
    }
   ],
   "source": [
    "model.fit(train_dataset, nb_epoch=10)"
   ]
  },
  {
   "cell_type": "code",
   "execution_count": 42,
   "id": "49f05ebf",
   "metadata": {},
   "outputs": [
    {
     "name": "stdout",
     "output_type": "stream",
     "text": [
      "Training set score: {'pearson_r2_score': 0.9523016384142916}\n",
      "Test set score: {'pearson_r2_score': 0.6965222878710083}\n"
     ]
    }
   ],
   "source": [
    "metric = dc.metrics.Metric(dc.metrics.pearson_r2_score)\n",
    "print(\"Training set score:\", model.evaluate(train_dataset, [metric], transformers))\n",
    "print(\"Test set score:\", model.evaluate(test_dataset, [metric], transformers))"
   ]
  },
  {
   "cell_type": "code",
   "execution_count": 43,
   "id": "f92eca5b",
   "metadata": {},
   "outputs": [
    {
     "name": "stdout",
     "output_type": "stream",
     "text": [
      "[-1.6209291] [-1.60114461] c1cc2ccc3cccc4ccc(c1)c2c34\n",
      "[1.0940055] [0.20848251] Cc1cc(=O)[nH]c(=S)[nH]1\n",
      "[-0.14301784] [-0.01602738] Oc1ccc(cc1)C2(OC(=O)c3ccccc23)c4ccc(O)cc4 \n",
      "[-1.8887591] [-2.82191713] c1ccc2c(c1)cc3ccc4cccc5ccc2c3c45\n",
      "[-1.492899] [-0.52891635] C1=Cc2cccc3cccc1c23\n",
      "[2.070325] [1.10168349] CC1CO1\n",
      "[-0.26230812] [-0.88987406] CCN2c1ccccc1N(C)C(=S)c3cccnc23 \n",
      "[-0.7425073] [-0.52649706] CC12CCC3C(CCc4cc(O)ccc34)C2CCC1=O\n",
      "[-0.95426714] [-0.76358725] Cn2cc(c1ccccc1)c(=O)c(c2)c3cccc(c3)C(F)(F)F\n",
      "[0.5404123] [-0.64020358] ClC(Cl)(Cl)C(NC=O)N1C=CN(C=C1)C(NC=O)C(Cl)(Cl)Cl \n"
     ]
    }
   ],
   "source": [
    "solubilities = model.predict_on_batch(test_dataset.X[:10])\n",
    "for molecule, solubility, test_solubility in zip(test_dataset.ids, solubilities, test_dataset.y):\n",
    "    print(solubility, test_solubility, molecule)"
   ]
  },
  {
   "cell_type": "markdown",
   "id": "05ae0e41",
   "metadata": {},
   "source": [
    "### Datasets"
   ]
  },
  {
   "cell_type": "code",
   "execution_count": 69,
   "id": "59b6d3ea",
   "metadata": {},
   "outputs": [],
   "source": [
    "?dc.data.Dataset"
   ]
  },
  {
   "cell_type": "markdown",
   "id": "84621593",
   "metadata": {},
   "source": [
    "### splits"
   ]
  },
  {
   "cell_type": "markdown",
   "id": "ca9ea78b",
   "metadata": {},
   "source": [
    "`dc.splits` - Испольуется для того чтобы разделить данные на тестовую выборку, тренировочную и для валидации."
   ]
  },
  {
   "cell_type": "code",
   "execution_count": 45,
   "id": "ef9ae485",
   "metadata": {},
   "outputs": [],
   "source": [
    "import numpy as np"
   ]
  },
  {
   "cell_type": "code",
   "execution_count": 49,
   "id": "6d1cd8b7",
   "metadata": {},
   "outputs": [],
   "source": [
    "X = np.random.random((10, 5))"
   ]
  },
  {
   "cell_type": "code",
   "execution_count": 51,
   "id": "6ebc8da8",
   "metadata": {},
   "outputs": [],
   "source": [
    "y = np.random.random((10, 5))"
   ]
  },
  {
   "cell_type": "code",
   "execution_count": 52,
   "id": "2b6578a9",
   "metadata": {},
   "outputs": [],
   "source": [
    "dataset = dc.data.NumpyDataset(X=X, y=y)"
   ]
  },
  {
   "cell_type": "code",
   "execution_count": 61,
   "id": "8f1e5c27",
   "metadata": {},
   "outputs": [
    {
     "data": {
      "text/html": [
       "<div>\n",
       "<style scoped>\n",
       "    .dataframe tbody tr th:only-of-type {\n",
       "        vertical-align: middle;\n",
       "    }\n",
       "\n",
       "    .dataframe tbody tr th {\n",
       "        vertical-align: top;\n",
       "    }\n",
       "\n",
       "    .dataframe thead th {\n",
       "        text-align: right;\n",
       "    }\n",
       "</style>\n",
       "<table border=\"1\" class=\"dataframe\">\n",
       "  <thead>\n",
       "    <tr style=\"text-align: right;\">\n",
       "      <th></th>\n",
       "      <th>X1</th>\n",
       "      <th>X2</th>\n",
       "      <th>X3</th>\n",
       "      <th>X4</th>\n",
       "      <th>X5</th>\n",
       "      <th>y1</th>\n",
       "      <th>y2</th>\n",
       "      <th>y3</th>\n",
       "      <th>y4</th>\n",
       "      <th>y5</th>\n",
       "      <th>w</th>\n",
       "      <th>ids</th>\n",
       "    </tr>\n",
       "  </thead>\n",
       "  <tbody>\n",
       "    <tr>\n",
       "      <th>0</th>\n",
       "      <td>0.034975</td>\n",
       "      <td>0.574936</td>\n",
       "      <td>0.149616</td>\n",
       "      <td>0.183415</td>\n",
       "      <td>0.112963</td>\n",
       "      <td>0.501487</td>\n",
       "      <td>0.884533</td>\n",
       "      <td>0.277845</td>\n",
       "      <td>0.273849</td>\n",
       "      <td>0.683935</td>\n",
       "      <td>1.0</td>\n",
       "      <td>0</td>\n",
       "    </tr>\n",
       "    <tr>\n",
       "      <th>1</th>\n",
       "      <td>0.434223</td>\n",
       "      <td>0.714458</td>\n",
       "      <td>0.700371</td>\n",
       "      <td>0.355171</td>\n",
       "      <td>0.344532</td>\n",
       "      <td>0.104251</td>\n",
       "      <td>0.587534</td>\n",
       "      <td>0.696490</td>\n",
       "      <td>0.480314</td>\n",
       "      <td>0.714676</td>\n",
       "      <td>1.0</td>\n",
       "      <td>1</td>\n",
       "    </tr>\n",
       "    <tr>\n",
       "      <th>2</th>\n",
       "      <td>0.388873</td>\n",
       "      <td>0.918900</td>\n",
       "      <td>0.976659</td>\n",
       "      <td>0.940298</td>\n",
       "      <td>0.044706</td>\n",
       "      <td>0.725174</td>\n",
       "      <td>0.047273</td>\n",
       "      <td>0.499119</td>\n",
       "      <td>0.872942</td>\n",
       "      <td>0.102795</td>\n",
       "      <td>1.0</td>\n",
       "      <td>2</td>\n",
       "    </tr>\n",
       "    <tr>\n",
       "      <th>3</th>\n",
       "      <td>0.800261</td>\n",
       "      <td>0.324705</td>\n",
       "      <td>0.792598</td>\n",
       "      <td>0.298959</td>\n",
       "      <td>0.020281</td>\n",
       "      <td>0.048861</td>\n",
       "      <td>0.358873</td>\n",
       "      <td>0.904832</td>\n",
       "      <td>0.542459</td>\n",
       "      <td>0.623981</td>\n",
       "      <td>1.0</td>\n",
       "      <td>3</td>\n",
       "    </tr>\n",
       "    <tr>\n",
       "      <th>4</th>\n",
       "      <td>0.970302</td>\n",
       "      <td>0.716971</td>\n",
       "      <td>0.087968</td>\n",
       "      <td>0.229049</td>\n",
       "      <td>0.422555</td>\n",
       "      <td>0.594741</td>\n",
       "      <td>0.179209</td>\n",
       "      <td>0.101489</td>\n",
       "      <td>0.469616</td>\n",
       "      <td>0.911583</td>\n",
       "      <td>1.0</td>\n",
       "      <td>4</td>\n",
       "    </tr>\n",
       "    <tr>\n",
       "      <th>5</th>\n",
       "      <td>0.269734</td>\n",
       "      <td>0.026810</td>\n",
       "      <td>0.265395</td>\n",
       "      <td>0.144387</td>\n",
       "      <td>0.682697</td>\n",
       "      <td>0.747262</td>\n",
       "      <td>0.379366</td>\n",
       "      <td>0.145490</td>\n",
       "      <td>0.483506</td>\n",
       "      <td>0.439281</td>\n",
       "      <td>1.0</td>\n",
       "      <td>5</td>\n",
       "    </tr>\n",
       "    <tr>\n",
       "      <th>6</th>\n",
       "      <td>0.666471</td>\n",
       "      <td>0.907194</td>\n",
       "      <td>0.295661</td>\n",
       "      <td>0.796175</td>\n",
       "      <td>0.593333</td>\n",
       "      <td>0.666814</td>\n",
       "      <td>0.945552</td>\n",
       "      <td>0.589189</td>\n",
       "      <td>0.034876</td>\n",
       "      <td>0.647331</td>\n",
       "      <td>1.0</td>\n",
       "      <td>6</td>\n",
       "    </tr>\n",
       "    <tr>\n",
       "      <th>7</th>\n",
       "      <td>0.783730</td>\n",
       "      <td>0.650166</td>\n",
       "      <td>0.491024</td>\n",
       "      <td>0.861685</td>\n",
       "      <td>0.626589</td>\n",
       "      <td>0.027335</td>\n",
       "      <td>0.697984</td>\n",
       "      <td>0.042889</td>\n",
       "      <td>0.918190</td>\n",
       "      <td>0.659943</td>\n",
       "      <td>1.0</td>\n",
       "      <td>7</td>\n",
       "    </tr>\n",
       "    <tr>\n",
       "      <th>8</th>\n",
       "      <td>0.404399</td>\n",
       "      <td>0.039884</td>\n",
       "      <td>0.981724</td>\n",
       "      <td>0.520288</td>\n",
       "      <td>0.209242</td>\n",
       "      <td>0.796906</td>\n",
       "      <td>0.661858</td>\n",
       "      <td>0.024685</td>\n",
       "      <td>0.124580</td>\n",
       "      <td>0.013634</td>\n",
       "      <td>1.0</td>\n",
       "      <td>8</td>\n",
       "    </tr>\n",
       "    <tr>\n",
       "      <th>9</th>\n",
       "      <td>0.321245</td>\n",
       "      <td>0.324349</td>\n",
       "      <td>0.444434</td>\n",
       "      <td>0.714654</td>\n",
       "      <td>0.539117</td>\n",
       "      <td>0.554923</td>\n",
       "      <td>0.459114</td>\n",
       "      <td>0.399376</td>\n",
       "      <td>0.696991</td>\n",
       "      <td>0.151317</td>\n",
       "      <td>1.0</td>\n",
       "      <td>9</td>\n",
       "    </tr>\n",
       "  </tbody>\n",
       "</table>\n",
       "</div>"
      ],
      "text/plain": [
       "         X1        X2        X3        X4        X5        y1        y2  \\\n",
       "0  0.034975  0.574936  0.149616  0.183415  0.112963  0.501487  0.884533   \n",
       "1  0.434223  0.714458  0.700371  0.355171  0.344532  0.104251  0.587534   \n",
       "2  0.388873  0.918900  0.976659  0.940298  0.044706  0.725174  0.047273   \n",
       "3  0.800261  0.324705  0.792598  0.298959  0.020281  0.048861  0.358873   \n",
       "4  0.970302  0.716971  0.087968  0.229049  0.422555  0.594741  0.179209   \n",
       "5  0.269734  0.026810  0.265395  0.144387  0.682697  0.747262  0.379366   \n",
       "6  0.666471  0.907194  0.295661  0.796175  0.593333  0.666814  0.945552   \n",
       "7  0.783730  0.650166  0.491024  0.861685  0.626589  0.027335  0.697984   \n",
       "8  0.404399  0.039884  0.981724  0.520288  0.209242  0.796906  0.661858   \n",
       "9  0.321245  0.324349  0.444434  0.714654  0.539117  0.554923  0.459114   \n",
       "\n",
       "         y3        y4        y5    w ids  \n",
       "0  0.277845  0.273849  0.683935  1.0   0  \n",
       "1  0.696490  0.480314  0.714676  1.0   1  \n",
       "2  0.499119  0.872942  0.102795  1.0   2  \n",
       "3  0.904832  0.542459  0.623981  1.0   3  \n",
       "4  0.101489  0.469616  0.911583  1.0   4  \n",
       "5  0.145490  0.483506  0.439281  1.0   5  \n",
       "6  0.589189  0.034876  0.647331  1.0   6  \n",
       "7  0.042889  0.918190  0.659943  1.0   7  \n",
       "8  0.024685  0.124580  0.013634  1.0   8  \n",
       "9  0.399376  0.696991  0.151317  1.0   9  "
      ]
     },
     "execution_count": 61,
     "metadata": {},
     "output_type": "execute_result"
    }
   ],
   "source": [
    "dataset.to_dataframe()"
   ]
  },
  {
   "cell_type": "code",
   "execution_count": 53,
   "id": "3abc078e",
   "metadata": {},
   "outputs": [],
   "source": [
    "splitter = dc.splits.RandomSplitter()"
   ]
  },
  {
   "cell_type": "code",
   "execution_count": 56,
   "id": "cad6459d",
   "metadata": {},
   "outputs": [],
   "source": [
    "train_dataset, test_dataset = splitter.train_test_split(dataset)"
   ]
  },
  {
   "cell_type": "code",
   "execution_count": 60,
   "id": "40b24fc5",
   "metadata": {},
   "outputs": [
    {
     "name": "stdout",
     "output_type": "stream",
     "text": [
      "<NumpyDataset X.shape: (8, 5), y.shape: (8, 5), w.shape: (8, 1), ids: [5 9 3 7 6 2 8 1], task_names: [0 1 2 3 4]>\n",
      "<NumpyDataset X.shape: (2, 5), y.shape: (2, 5), w.shape: (2, 1), ids: [0 4], task_names: [0 1 2 3 4]>\n"
     ]
    }
   ],
   "source": [
    "print(train_dataset, test_dataset, sep=\"\\n\")"
   ]
  },
  {
   "cell_type": "markdown",
   "id": "708daca1",
   "metadata": {},
   "source": [
    "### models"
   ]
  },
  {
   "cell_type": "code",
   "execution_count": 44,
   "id": "ce3380ac",
   "metadata": {},
   "outputs": [
    {
     "name": "stdout",
     "output_type": "stream",
     "text": [
      "Help on package deepchem.models in deepchem:\n",
      "\n",
      "NAME\n",
      "    deepchem.models - Gathers all models in one place for convenient imports\n",
      "\n",
      "PACKAGE CONTENTS\n",
      "    IRV\n",
      "    atomic_conv\n",
      "    callbacks\n",
      "    chemnet_layers\n",
      "    chemnet_models\n",
      "    cnn\n",
      "    fcnet\n",
      "    gan\n",
      "    gbdt_models (package)\n",
      "    graph_models\n",
      "    keras_model\n",
      "    layers\n",
      "    losses\n",
      "    models\n",
      "    multitask\n",
      "    normalizing_flows\n",
      "    optimizers\n",
      "    progressive_multitask\n",
      "    robust_multitask\n",
      "    scscore\n",
      "    seqtoseq\n",
      "    sklearn_models (package)\n",
      "    text_cnn\n",
      "    torch_models (package)\n",
      "\n",
      "FILE\n",
      "    /home/aster/anaconda3/envs/chemo/lib/python3.6/site-packages/deepchem/models/__init__.py\n",
      "\n",
      "\n"
     ]
    }
   ],
   "source": [
    "help(dc.models)"
   ]
  },
  {
   "cell_type": "code",
   "execution_count": null,
   "id": "7d68c3c3",
   "metadata": {},
   "outputs": [],
   "source": []
  }
 ],
 "metadata": {
  "kernelspec": {
   "display_name": "Python 3",
   "language": "python",
   "name": "python3"
  },
  "language_info": {
   "codemirror_mode": {
    "name": "ipython",
    "version": 3
   },
   "file_extension": ".py",
   "mimetype": "text/x-python",
   "name": "python",
   "nbconvert_exporter": "python",
   "pygments_lexer": "ipython3",
   "version": "3.6.13"
  }
 },
 "nbformat": 4,
 "nbformat_minor": 5
}
