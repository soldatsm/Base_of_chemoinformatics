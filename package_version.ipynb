{
 "cells": [
  {
   "cell_type": "code",
   "execution_count": 7,
   "metadata": {},
   "outputs": [],
   "source": [
    "\n",
    "import numpy  as np\n",
    "import keras\n",
    "import torch #PyTorch\n",
    "import pandas\n",
    "import tensorflow as tf\n",
    "import rdkit as rt\n",
    "import deepchem\n",
    "import pubchempy as pcp"
   ]
  },
  {
   "cell_type": "code",
   "execution_count": 8,
   "metadata": {},
   "outputs": [
    {
     "name": "stdout",
     "output_type": "stream",
     "text": [
      "Numpy 1.17.5\n",
      "Keras 2.3.1\n",
      "PyTorch 1.4.0\n",
      "Pandas 0.25.3\n",
      "TensorFlow 1.14.0\n",
      "RDkit 2020.09.1\n",
      "DeepChem 2.5.0\n"
     ]
    }
   ],
   "source": [
    "\n",
    "print(\"Numpy\", np.__version__)\n",
    "print(\"Keras\", keras.__version__)\n",
    "print(\"PyTorch\", torch.__version__)\n",
    "print(\"Pandas\",pandas.__version__)\n",
    "print(\"TensorFlow\", tf.__version__)\n",
    "print(\"RDkit\", rt.__version__)\n",
    "print(\"DeepChem\", deepchem.__version__)"
   ]
  },
  {
   "cell_type": "code",
   "execution_count": null,
   "metadata": {},
   "outputs": [],
   "source": []
  }
 ],
 "metadata": {
  "kernelspec": {
   "display_name": "Python 3",
   "language": "python",
   "name": "python3"
  },
  "language_info": {
   "codemirror_mode": {
    "name": "ipython",
    "version": 3
   },
   "file_extension": ".py",
   "mimetype": "text/x-python",
   "name": "python",
   "nbconvert_exporter": "python",
   "pygments_lexer": "ipython3",
   "version": "3.8.8"
  }
 },
 "nbformat": 4,
 "nbformat_minor": 4
}
