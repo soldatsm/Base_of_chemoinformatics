{
 "cells": [
  {
   "cell_type": "code",
   "execution_count": 109,
   "id": "78d6ee7f",
   "metadata": {},
   "outputs": [],
   "source": [
    "import numpy as np"
   ]
  },
  {
   "cell_type": "code",
   "execution_count": 26,
   "id": "2999bfc9",
   "metadata": {},
   "outputs": [],
   "source": [
    "my_1D_array = np.array([1,2,3])\n",
    "my_2D_array = np.array([[1,2,3],\n",
    "                        [3,4,5]])\n",
    "my_3D_array = np.array([[[1,2,3], [4,5,6]], [[7,8,9], [1, 1 , 1]]]) #Tensor"
   ]
  },
  {
   "cell_type": "code",
   "execution_count": 30,
   "id": "f4359d5b",
   "metadata": {},
   "outputs": [
    {
     "name": "stdout",
     "output_type": "stream",
     "text": [
      "[1 2 3]\n",
      "\n",
      " [[1 2 3]\n",
      " [3 4 5]]\n",
      "\n",
      " [[[1 2 3]\n",
      "  [4 5 6]]\n",
      "\n",
      " [[7 8 9]\n",
      "  [1 1 1]]]\n"
     ]
    }
   ],
   "source": [
    "print(my_1D_array)\n",
    "print(\"\\n\", my_2D_array)\n",
    "\n",
    "print(\"\\n\",my_3D_array)"
   ]
  },
  {
   "cell_type": "code",
   "execution_count": 31,
   "id": "613444dc",
   "metadata": {},
   "outputs": [
    {
     "data": {
      "text/plain": [
       "['T',\n",
       " '__abs__',\n",
       " '__add__',\n",
       " '__and__',\n",
       " '__array__',\n",
       " '__array_finalize__',\n",
       " '__array_function__',\n",
       " '__array_interface__',\n",
       " '__array_prepare__',\n",
       " '__array_priority__',\n",
       " '__array_struct__',\n",
       " '__array_ufunc__',\n",
       " '__array_wrap__',\n",
       " '__bool__',\n",
       " '__class__',\n",
       " '__complex__',\n",
       " '__contains__',\n",
       " '__copy__',\n",
       " '__deepcopy__',\n",
       " '__delattr__',\n",
       " '__delitem__',\n",
       " '__dir__',\n",
       " '__divmod__',\n",
       " '__doc__',\n",
       " '__eq__',\n",
       " '__float__',\n",
       " '__floordiv__',\n",
       " '__format__',\n",
       " '__ge__',\n",
       " '__getattribute__',\n",
       " '__getitem__',\n",
       " '__gt__',\n",
       " '__hash__',\n",
       " '__iadd__',\n",
       " '__iand__',\n",
       " '__ifloordiv__',\n",
       " '__ilshift__',\n",
       " '__imatmul__',\n",
       " '__imod__',\n",
       " '__imul__',\n",
       " '__index__',\n",
       " '__init__',\n",
       " '__init_subclass__',\n",
       " '__int__',\n",
       " '__invert__',\n",
       " '__ior__',\n",
       " '__ipow__',\n",
       " '__irshift__',\n",
       " '__isub__',\n",
       " '__iter__',\n",
       " '__itruediv__',\n",
       " '__ixor__',\n",
       " '__le__',\n",
       " '__len__',\n",
       " '__lshift__',\n",
       " '__lt__',\n",
       " '__matmul__',\n",
       " '__mod__',\n",
       " '__mul__',\n",
       " '__ne__',\n",
       " '__neg__',\n",
       " '__new__',\n",
       " '__or__',\n",
       " '__pos__',\n",
       " '__pow__',\n",
       " '__radd__',\n",
       " '__rand__',\n",
       " '__rdivmod__',\n",
       " '__reduce__',\n",
       " '__reduce_ex__',\n",
       " '__repr__',\n",
       " '__rfloordiv__',\n",
       " '__rlshift__',\n",
       " '__rmatmul__',\n",
       " '__rmod__',\n",
       " '__rmul__',\n",
       " '__ror__',\n",
       " '__rpow__',\n",
       " '__rrshift__',\n",
       " '__rshift__',\n",
       " '__rsub__',\n",
       " '__rtruediv__',\n",
       " '__rxor__',\n",
       " '__setattr__',\n",
       " '__setitem__',\n",
       " '__setstate__',\n",
       " '__sizeof__',\n",
       " '__str__',\n",
       " '__sub__',\n",
       " '__subclasshook__',\n",
       " '__truediv__',\n",
       " '__xor__',\n",
       " 'all',\n",
       " 'any',\n",
       " 'argmax',\n",
       " 'argmin',\n",
       " 'argpartition',\n",
       " 'argsort',\n",
       " 'astype',\n",
       " 'base',\n",
       " 'byteswap',\n",
       " 'choose',\n",
       " 'clip',\n",
       " 'compress',\n",
       " 'conj',\n",
       " 'conjugate',\n",
       " 'copy',\n",
       " 'ctypes',\n",
       " 'cumprod',\n",
       " 'cumsum',\n",
       " 'data',\n",
       " 'diagonal',\n",
       " 'dot',\n",
       " 'dtype',\n",
       " 'dump',\n",
       " 'dumps',\n",
       " 'fill',\n",
       " 'flags',\n",
       " 'flat',\n",
       " 'flatten',\n",
       " 'getfield',\n",
       " 'imag',\n",
       " 'item',\n",
       " 'itemset',\n",
       " 'itemsize',\n",
       " 'max',\n",
       " 'mean',\n",
       " 'min',\n",
       " 'nbytes',\n",
       " 'ndim',\n",
       " 'newbyteorder',\n",
       " 'nonzero',\n",
       " 'partition',\n",
       " 'prod',\n",
       " 'ptp',\n",
       " 'put',\n",
       " 'ravel',\n",
       " 'real',\n",
       " 'repeat',\n",
       " 'reshape',\n",
       " 'resize',\n",
       " 'round',\n",
       " 'searchsorted',\n",
       " 'setfield',\n",
       " 'setflags',\n",
       " 'shape',\n",
       " 'size',\n",
       " 'sort',\n",
       " 'squeeze',\n",
       " 'std',\n",
       " 'strides',\n",
       " 'sum',\n",
       " 'swapaxes',\n",
       " 'take',\n",
       " 'tobytes',\n",
       " 'tofile',\n",
       " 'tolist',\n",
       " 'tostring',\n",
       " 'trace',\n",
       " 'transpose',\n",
       " 'var',\n",
       " 'view']"
      ]
     },
     "execution_count": 31,
     "metadata": {},
     "output_type": "execute_result"
    }
   ],
   "source": [
    "dir(my_1D_array)"
   ]
  },
  {
   "cell_type": "markdown",
   "id": "31b66e21",
   "metadata": {},
   "source": [
    "You see that, in the example above, the data are integers. The array holds and represents any regular data in a structured way.\n",
    "\n",
    "However, you should know that, on a structural level, an array is basically nothing but pointers. It’s a combination of a memory address, a data type, a shape, and strides:"
   ]
  },
  {
   "cell_type": "code",
   "execution_count": 32,
   "id": "75f1cb39",
   "metadata": {},
   "outputs": [
    {
     "name": "stdout",
     "output_type": "stream",
     "text": [
      "\n",
      " <memory at 0x7f90857ae700>\n",
      "\n",
      " int64\n",
      "\n",
      " (3,)\n",
      "\n",
      " (8,)\n"
     ]
    }
   ],
   "source": [
    "print(\"\\n\", my_1D_array.data)  #Выводит адрес в памяти первого байта в масиве\n",
    "print(\"\\n\", my_1D_array.dtype)  #Показывает природу элементов в масиве\n",
    "print(\"\\n\", my_1D_array.shape)  #Показывает структуру масива\n",
    "print(\"\\n\", my_1D_array.strides)  #\n"
   ]
  },
  {
   "cell_type": "code",
   "execution_count": 33,
   "id": "0662537c",
   "metadata": {},
   "outputs": [
    {
     "name": "stdout",
     "output_type": "stream",
     "text": [
      "\n",
      " (2, 3)\n",
      "\n",
      " (2, 2, 3)\n"
     ]
    }
   ],
   "source": [
    "print(\"\\n\", my_2D_array.shape)\n",
    "print(\"\\n\", my_3D_array.shape)"
   ]
  },
  {
   "cell_type": "code",
   "execution_count": 35,
   "id": "adfc74ba",
   "metadata": {},
   "outputs": [],
   "source": [
    "a = np.array([1,0,1], dtype=np.bool_)"
   ]
  },
  {
   "cell_type": "code",
   "execution_count": 36,
   "id": "d1d3326e",
   "metadata": {},
   "outputs": [
    {
     "name": "stdout",
     "output_type": "stream",
     "text": [
      "[ True False  True]\n"
     ]
    }
   ],
   "source": [
    "print(a)"
   ]
  },
  {
   "cell_type": "markdown",
   "id": "b2ec4aeb",
   "metadata": {},
   "source": [
    "В numpy существует много [типов данных](https://numpy.org/doc/stable/user/basics.types.html)"
   ]
  },
  {
   "cell_type": "code",
   "execution_count": 42,
   "id": "c427ac36",
   "metadata": {},
   "outputs": [
    {
     "name": "stdout",
     "output_type": "stream",
     "text": [
      "[[1 2 3]\n",
      " [1 2 3]]\n"
     ]
    }
   ],
   "source": [
    "a = np.array([[1,2,3], [1,2,3]], dtype = np.int8)\n",
    "print(a)"
   ]
  },
  {
   "cell_type": "markdown",
   "id": "86045d1d",
   "metadata": {},
   "source": [
    "> Однако мы не всегода знаем к какому типу данных будут относться данные вносимые в масив. Или они будут импортироваться их другиъ источников\n",
    "> В таком случаи можно создать пустой масив"
   ]
  },
  {
   "cell_type": "markdown",
   "id": "d354979b",
   "metadata": {},
   "source": [
    "<h1> Создание пустого масива <h1>"
   ]
  },
  {
   "cell_type": "markdown",
   "id": "f8c53d4c",
   "metadata": {},
   "source": [
    "Пустой масив - это заготовка для будущего импорта данных или последующего внесения юзером\n",
    "\n",
    "Можно создать следующие заготовки:\n",
    "\n",
    " > * Масив из единиц\n",
    " > * Масив нулей\n",
    " > * Масив случайных чисел\n",
    " > * Масив из пробелов"
   ]
  },
  {
   "cell_type": "code",
   "execution_count": 47,
   "id": "4c0dd571",
   "metadata": {},
   "outputs": [
    {
     "data": {
      "text/plain": [
       "array([0.  , 0.25, 0.5 , 0.75, 1.  , 1.25, 1.5 , 1.75, 2.  ])"
      ]
     },
     "execution_count": 47,
     "metadata": {},
     "output_type": "execute_result"
    }
   ],
   "source": [
    "# Create an array of ones\n",
    "np.ones((3,4))\n",
    "\n",
    "# Create an array of zeros\n",
    "np.zeros((2,3,4),dtype=np.int16)\n",
    "\n",
    "# Create an array with random values\n",
    "np.random.random((2,2))\n",
    "\n",
    "# Create an empty array\n",
    "np.empty((3,2))\n",
    "\n",
    "# Create a full array\n",
    "np.full((2,2),7)\n",
    "\n",
    "# Create an array of evenly-spaced values\n",
    "np.arange(10,25,5)\n",
    "\n",
    "# Create an array of evenly-spaced values\n",
    "np.linspace(0,2,9)"
   ]
  },
  {
   "cell_type": "code",
   "execution_count": 49,
   "id": "beda4614",
   "metadata": {},
   "outputs": [
    {
     "name": "stdout",
     "output_type": "stream",
     "text": [
      "[[1. 1. 1. 1.]\n",
      " [1. 1. 1. 1.]\n",
      " [1. 1. 1. 1.]]\n"
     ]
    }
   ],
   "source": [
    "a = np.ones([3,4])\n",
    "print(a)"
   ]
  },
  {
   "cell_type": "code",
   "execution_count": 53,
   "id": "46533b6f",
   "metadata": {},
   "outputs": [
    {
     "name": "stdout",
     "output_type": "stream",
     "text": [
      "[[0 0 0]\n",
      " [0 0 0]]\n"
     ]
    }
   ],
   "source": [
    "a = np.zeros([2,3], dtype = np.int16)\n",
    "print(a)"
   ]
  },
  {
   "cell_type": "code",
   "execution_count": 57,
   "id": "a5fee1be",
   "metadata": {},
   "outputs": [
    {
     "name": "stdout",
     "output_type": "stream",
     "text": [
      "[[0.28825332 0.85726048 0.99381392 0.13791157 0.40299337]\n",
      " [0.11993724 0.07035333 0.66542906 0.98031085 0.86529033]\n",
      " [0.1286666  0.67826673 0.20124907 0.71487587 0.49594248]]\n"
     ]
    }
   ],
   "source": [
    "a = np.random.random([3,5])\n",
    "print(a)"
   ]
  },
  {
   "cell_type": "code",
   "execution_count": 58,
   "id": "53e024ec",
   "metadata": {},
   "outputs": [
    {
     "data": {
      "text/plain": [
       "['BitGenerator',\n",
       " 'Generator',\n",
       " 'MT19937',\n",
       " 'PCG64',\n",
       " 'Philox',\n",
       " 'RandomState',\n",
       " 'SFC64',\n",
       " 'SeedSequence',\n",
       " '__RandomState_ctor',\n",
       " '__all__',\n",
       " '__builtins__',\n",
       " '__cached__',\n",
       " '__doc__',\n",
       " '__file__',\n",
       " '__loader__',\n",
       " '__name__',\n",
       " '__package__',\n",
       " '__path__',\n",
       " '__spec__',\n",
       " '_bounded_integers',\n",
       " '_common',\n",
       " '_generator',\n",
       " '_mt19937',\n",
       " '_pcg64',\n",
       " '_philox',\n",
       " '_pickle',\n",
       " '_sfc64',\n",
       " 'beta',\n",
       " 'binomial',\n",
       " 'bit_generator',\n",
       " 'bytes',\n",
       " 'chisquare',\n",
       " 'choice',\n",
       " 'default_rng',\n",
       " 'dirichlet',\n",
       " 'exponential',\n",
       " 'f',\n",
       " 'gamma',\n",
       " 'geometric',\n",
       " 'get_state',\n",
       " 'gumbel',\n",
       " 'hypergeometric',\n",
       " 'laplace',\n",
       " 'logistic',\n",
       " 'lognormal',\n",
       " 'logseries',\n",
       " 'mtrand',\n",
       " 'multinomial',\n",
       " 'multivariate_normal',\n",
       " 'negative_binomial',\n",
       " 'noncentral_chisquare',\n",
       " 'noncentral_f',\n",
       " 'normal',\n",
       " 'pareto',\n",
       " 'permutation',\n",
       " 'poisson',\n",
       " 'power',\n",
       " 'rand',\n",
       " 'randint',\n",
       " 'randn',\n",
       " 'random',\n",
       " 'random_integers',\n",
       " 'random_sample',\n",
       " 'ranf',\n",
       " 'rayleigh',\n",
       " 'sample',\n",
       " 'seed',\n",
       " 'set_state',\n",
       " 'shuffle',\n",
       " 'standard_cauchy',\n",
       " 'standard_exponential',\n",
       " 'standard_gamma',\n",
       " 'standard_normal',\n",
       " 'standard_t',\n",
       " 'test',\n",
       " 'triangular',\n",
       " 'uniform',\n",
       " 'vonmises',\n",
       " 'wald',\n",
       " 'weibull',\n",
       " 'zipf']"
      ]
     },
     "execution_count": 58,
     "metadata": {},
     "output_type": "execute_result"
    }
   ],
   "source": [
    "dir(np.random)"
   ]
  },
  {
   "cell_type": "code",
   "execution_count": 75,
   "id": "e5681812",
   "metadata": {},
   "outputs": [
    {
     "data": {
      "text/plain": [
       "array([[[0, 0],\n",
       "        [0, 0]],\n",
       "\n",
       "       [[0, 0],\n",
       "        [0, 0]]], dtype=int8)"
      ]
     },
     "execution_count": 75,
     "metadata": {},
     "output_type": "execute_result"
    }
   ],
   "source": [
    "np.zeros([2, 2, 2], dtype=np.int8)"
   ]
  },
  {
   "cell_type": "code",
   "execution_count": 76,
   "id": "a373685b",
   "metadata": {},
   "outputs": [
    {
     "data": {
      "text/plain": [
       "array([[0, 0],\n",
       "       [0, 0]])"
      ]
     },
     "execution_count": 76,
     "metadata": {},
     "output_type": "execute_result"
    }
   ],
   "source": [
    "np.zeros([2, 2], dtype=np.int64)"
   ]
  },
  {
   "cell_type": "code",
   "execution_count": 81,
   "id": "b34f6990",
   "metadata": {},
   "outputs": [
    {
     "data": {
      "text/plain": [
       "array([[[0.91572947, 0.50096784],\n",
       "        [0.50000845, 0.85259762]],\n",
       "\n",
       "       [[0.77599087, 0.00184142],\n",
       "        [0.32549115, 0.03201695]]])"
      ]
     },
     "execution_count": 81,
     "metadata": {},
     "output_type": "execute_result"
    }
   ],
   "source": [
    "np.random.random([2,2,2])"
   ]
  },
  {
   "cell_type": "code",
   "execution_count": 83,
   "id": "00fcb9d6",
   "metadata": {},
   "outputs": [],
   "source": [
    "?np.arange"
   ]
  },
  {
   "cell_type": "code",
   "execution_count": 90,
   "id": "1da03de8",
   "metadata": {},
   "outputs": [
    {
     "data": {
      "text/plain": [
       "array([1, 3, 5, 7, 9])"
      ]
     },
     "execution_count": 90,
     "metadata": {},
     "output_type": "execute_result"
    }
   ],
   "source": [
    "np.arange(1,10,2)"
   ]
  },
  {
   "cell_type": "code",
   "execution_count": 95,
   "id": "cf4a7476",
   "metadata": {},
   "outputs": [],
   "source": [
    "?np.eye"
   ]
  },
  {
   "cell_type": "code",
   "execution_count": 98,
   "id": "f89129b9",
   "metadata": {},
   "outputs": [
    {
     "data": {
      "text/plain": [
       "array([[1., 0., 0., 0.],\n",
       "       [0., 1., 0., 0.],\n",
       "       [0., 0., 1., 0.],\n",
       "       [0., 0., 0., 1.]])"
      ]
     },
     "execution_count": 98,
     "metadata": {},
     "output_type": "execute_result"
    }
   ],
   "source": [
    "np.eye(4) # Создает квадратную матрицу с диагональю из единиц"
   ]
  },
  {
   "cell_type": "code",
   "execution_count": 102,
   "id": "c1070a33",
   "metadata": {},
   "outputs": [
    {
     "data": {
      "text/plain": [
       "array([[1., 0., 0., 0., 0.],\n",
       "       [0., 1., 0., 0., 0.],\n",
       "       [0., 0., 1., 0., 0.],\n",
       "       [0., 0., 0., 1., 0.],\n",
       "       [0., 0., 0., 0., 1.]])"
      ]
     },
     "execution_count": 102,
     "metadata": {},
     "output_type": "execute_result"
    }
   ],
   "source": [
    "np.identity(5) # Отдичется от eye тем, что в первой можно создать не квадратную матрицу а тут только один агрумент"
   ]
  },
  {
   "cell_type": "markdown",
   "id": "5e950d33",
   "metadata": {},
   "source": [
    "При этом все значения не на диагонали - заплняются нулями.\n",
    "\n",
    "**Кроме того:**\n",
    "> When you multiply a matrix with an identity matrix, the given matrix is left unchanged."
   ]
  },
  {
   "cell_type": "code",
   "execution_count": 107,
   "id": "d769af54",
   "metadata": {},
   "outputs": [
    {
     "data": {
      "text/plain": [
       "array([[0.79664479, 0.71060712, 0.03473954, 0.92892787],\n",
       "       [0.28805755, 0.68428673, 0.66206558, 0.56955048],\n",
       "       [0.06322627, 0.02660601, 0.15872167, 0.66977322],\n",
       "       [0.69880707, 0.07657329, 0.90943063, 0.45960234]])"
      ]
     },
     "execution_count": 107,
     "metadata": {},
     "output_type": "execute_result"
    }
   ],
   "source": [
    "a = np.random.random([4,4])\n",
    "a"
   ]
  },
  {
   "cell_type": "code",
   "execution_count": 106,
   "id": "a26d38ad",
   "metadata": {},
   "outputs": [
    {
     "data": {
      "text/plain": [
       "array([[1., 0., 0., 0.],\n",
       "       [0., 1., 0., 0.],\n",
       "       [0., 0., 1., 0.],\n",
       "       [0., 0., 0., 1.]])"
      ]
     },
     "execution_count": 106,
     "metadata": {},
     "output_type": "execute_result"
    }
   ],
   "source": [
    "b = np.identity(4)\n",
    "b"
   ]
  },
  {
   "cell_type": "code",
   "execution_count": 105,
   "id": "5882a200",
   "metadata": {},
   "outputs": [
    {
     "name": "stdout",
     "output_type": "stream",
     "text": [
      "[[0.7736084  0.         0.         0.        ]\n",
      " [0.         0.76750375 0.         0.        ]\n",
      " [0.         0.         0.159749   0.        ]\n",
      " [0.         0.         0.         0.70174103]]\n"
     ]
    }
   ],
   "source": [
    "print(a * b)"
   ]
  },
  {
   "cell_type": "markdown",
   "id": "73f5cdfc",
   "metadata": {},
   "source": [
    "<h1>Загрузка масивов из файлов<h1>"
   ]
  },
  {
   "cell_type": "markdown",
   "id": "5e54c803",
   "metadata": {},
   "source": [
    "> Чтобы проводить анализ данных нужно из загрузить из текстового файла\n",
    "\n",
    "В пакете есть несколько подходящих функций:\n",
    "* np.loadtxt()\n",
    "* np.genfromtxt()"
   ]
  },
  {
   "cell_type": "code",
   "execution_count": 108,
   "id": "29ab16c3",
   "metadata": {},
   "outputs": [],
   "source": []
  },
  {
   "cell_type": "markdown",
   "id": "2330c105",
   "metadata": {},
   "source": [
    "<h1>Сохранение масивов</h1>\n",
    "\n",
    "Для сохранения масивов в тесктовый файл используется следующая команда:\n",
    "\n",
    "* np.savetxt()\n"
   ]
  },
  {
   "cell_type": "code",
   "execution_count": 111,
   "id": "7c2fde56",
   "metadata": {},
   "outputs": [],
   "source": [
    "a = np.ones([5,5], dtype=np.int64)"
   ]
  },
  {
   "cell_type": "code",
   "execution_count": 113,
   "id": "7d1db2a8",
   "metadata": {},
   "outputs": [],
   "source": [
    "np.savetxt(\"test.txt\", a) #Файл в папку ноутбука сохранился"
   ]
  },
  {
   "cell_type": "markdown",
   "id": "1efb14cf",
   "metadata": {},
   "source": [
    "<h1>Получение еще большей информации о масиве</h1>\n",
    "\n",
    "Кроме ранее упомянутых **data, shape, dtype, strides** есть еще несколко команд:\n",
    "\n",
    "* ndim - выводит колличесвто измерений масива\n",
    "* size - выводит колличество элементов\n",
    "* flags - размещение в памяти\n",
    "* itemsize - выводит длину в байтах\n",
    "* nbytes - выводит полный вес в байтах"
   ]
  },
  {
   "cell_type": "code",
   "execution_count": 123,
   "id": "b799c262",
   "metadata": {},
   "outputs": [],
   "source": [
    "my_array = np.eye(4,4)"
   ]
  },
  {
   "cell_type": "code",
   "execution_count": 121,
   "id": "b9525606",
   "metadata": {},
   "outputs": [
    {
     "name": "stdout",
     "output_type": "stream",
     "text": [
      "2\n"
     ]
    }
   ],
   "source": [
    "print(my_array.ndim)"
   ]
  },
  {
   "cell_type": "code",
   "execution_count": 124,
   "id": "99a9f2d7",
   "metadata": {},
   "outputs": [
    {
     "name": "stdout",
     "output_type": "stream",
     "text": [
      "16\n"
     ]
    }
   ],
   "source": [
    "print(my_array.size)"
   ]
  },
  {
   "cell_type": "code",
   "execution_count": 125,
   "id": "44c36ba9",
   "metadata": {},
   "outputs": [
    {
     "name": "stdout",
     "output_type": "stream",
     "text": [
      "  C_CONTIGUOUS : True\n",
      "  F_CONTIGUOUS : False\n",
      "  OWNDATA : True\n",
      "  WRITEABLE : True\n",
      "  ALIGNED : True\n",
      "  WRITEBACKIFCOPY : False\n",
      "  UPDATEIFCOPY : False\n",
      "\n"
     ]
    }
   ],
   "source": [
    "print(my_array.flags)"
   ]
  },
  {
   "cell_type": "code",
   "execution_count": 126,
   "id": "9771864a",
   "metadata": {},
   "outputs": [
    {
     "name": "stdout",
     "output_type": "stream",
     "text": [
      "8\n"
     ]
    }
   ],
   "source": [
    "print(my_array.itemsize)"
   ]
  },
  {
   "cell_type": "code",
   "execution_count": 128,
   "id": "cc93c2f7",
   "metadata": {},
   "outputs": [
    {
     "name": "stdout",
     "output_type": "stream",
     "text": [
      "128\n"
     ]
    }
   ],
   "source": [
    "print(my_array.nbytes)"
   ]
  },
  {
   "cell_type": "markdown",
   "id": "d775caa7",
   "metadata": {},
   "source": [
    "<h1>Numpy broadcast</h1>\n",
    "\n",
    "Broadcasting - это механизм который позволяет работать с масивами разной формы при применении арифметических операций.\n",
    "> To put it in a more practical context, you often have an array that’s somewhat larger and another one that’s slightly smaller. Ideally, you want to use the smaller array multiple times to perform an operation (such as a sum, multiplication, etc.) on the larger array.\n",
    ">However, there are some rules if you want to use it. And, before you already sigh, you’ll see that these “rules” are very simple and kind of straightforward!\n",
    ">\n",
    "   * First off, to make sure that the broadcasting is successful, the dimensions of your arrays need to be compatible. Two dimensions are compatible when they are equal. Consider the following example:\n"
   ]
  },
  {
   "cell_type": "code",
   "execution_count": 138,
   "id": "77903eb7",
   "metadata": {},
   "outputs": [
    {
     "name": "stdout",
     "output_type": "stream",
     "text": [
      "(3, 4)\n"
     ]
    }
   ],
   "source": [
    "a = np.eye(3,4)\n",
    "print(np.shape(a))"
   ]
  },
  {
   "cell_type": "code",
   "execution_count": 133,
   "id": "cd09bc69",
   "metadata": {},
   "outputs": [
    {
     "name": "stdout",
     "output_type": "stream",
     "text": [
      "(3, 4)\n"
     ]
    }
   ],
   "source": [
    "b = np.random.random((3,4))\n",
    "print(np.shape(b))"
   ]
  },
  {
   "cell_type": "code",
   "execution_count": 134,
   "id": "602a315f",
   "metadata": {},
   "outputs": [
    {
     "data": {
      "text/plain": [
       "array([[1.19347422, 0.60467371, 0.36155803, 0.98826333],\n",
       "       [0.36930333, 1.88869501, 0.59503534, 0.99891886],\n",
       "       [0.88614774, 0.31996532, 1.6685647 , 0.59017598]])"
      ]
     },
     "execution_count": 134,
     "metadata": {},
     "output_type": "execute_result"
    }
   ],
   "source": [
    "a + b"
   ]
  },
  {
   "cell_type": "markdown",
   "id": "f6525519",
   "metadata": {},
   "source": [
    "* Two dimensions are also compatible when one of them is 1:"
   ]
  },
  {
   "cell_type": "code",
   "execution_count": 149,
   "id": "63f7d234",
   "metadata": {},
   "outputs": [
    {
     "name": "stdout",
     "output_type": "stream",
     "text": [
      "[[1. 1. 1. 1.]\n",
      " [1. 1. 1. 1.]\n",
      " [1. 1. 1. 1.]]\n"
     ]
    }
   ],
   "source": [
    "a = np.ones((3,4))\n",
    "print(a)"
   ]
  },
  {
   "cell_type": "code",
   "execution_count": 148,
   "id": "15e1de84",
   "metadata": {},
   "outputs": [
    {
     "name": "stdout",
     "output_type": "stream",
     "text": [
      "[0.0817855  0.67658905 0.76241808 0.55114844]\n"
     ]
    }
   ],
   "source": [
    "b = np.random.random(4,)\n",
    "print(b)"
   ]
  },
  {
   "cell_type": "code",
   "execution_count": 147,
   "id": "0735d09b",
   "metadata": {},
   "outputs": [
    {
     "data": {
      "text/plain": [
       "array([[0.86314666, 0.73562348, 0.0071381 , 0.36583202],\n",
       "       [0.86314666, 0.73562348, 0.0071381 , 0.36583202],\n",
       "       [0.86314666, 0.73562348, 0.0071381 , 0.36583202]])"
      ]
     },
     "execution_count": 147,
     "metadata": {},
     "output_type": "execute_result"
    }
   ],
   "source": [
    "a - b"
   ]
  },
  {
   "cell_type": "code",
   "execution_count": 150,
   "id": "ca5b7e76",
   "metadata": {},
   "outputs": [
    {
     "data": {
      "text/plain": [
       "array([[0.0817855 , 0.67658905, 0.76241808, 0.55114844],\n",
       "       [0.0817855 , 0.67658905, 0.76241808, 0.55114844],\n",
       "       [0.0817855 , 0.67658905, 0.76241808, 0.55114844]])"
      ]
     },
     "execution_count": 150,
     "metadata": {},
     "output_type": "execute_result"
    }
   ],
   "source": [
    "a * b"
   ]
  },
  {
   "cell_type": "code",
   "execution_count": 157,
   "id": "3350fbab",
   "metadata": {},
   "outputs": [
    {
     "ename": "AttributeError",
     "evalue": "'function' object has no attribute 'T'",
     "output_type": "error",
     "traceback": [
      "\u001b[0;31m---------------------------------------------------------------------------\u001b[0m",
      "\u001b[0;31mAttributeError\u001b[0m                            Traceback (most recent call last)",
      "\u001b[0;32m<ipython-input-157-60c1340e8c4a>\u001b[0m in \u001b[0;36m<module>\u001b[0;34m\u001b[0m\n\u001b[1;32m      1\u001b[0m \u001b[0mX\u001b[0m \u001b[0;34m=\u001b[0m \u001b[0mnp\u001b[0m\u001b[0;34m.\u001b[0m\u001b[0marray\u001b[0m\u001b[0;34m(\u001b[0m\u001b[0;34m[\u001b[0m\u001b[0;36m1\u001b[0m\u001b[0;34m,\u001b[0m\u001b[0;36m2\u001b[0m\u001b[0;34m,\u001b[0m\u001b[0;36m3\u001b[0m\u001b[0;34m,\u001b[0m\u001b[0;36m4\u001b[0m\u001b[0;34m]\u001b[0m\u001b[0;34m)\u001b[0m\u001b[0;34m\u001b[0m\u001b[0;34m\u001b[0m\u001b[0m\n\u001b[0;32m----> 2\u001b[0;31m \u001b[0mY\u001b[0m \u001b[0;34m=\u001b[0m \u001b[0mnp\u001b[0m\u001b[0;34m.\u001b[0m\u001b[0mones\u001b[0m\u001b[0;34m.\u001b[0m\u001b[0mT\u001b[0m\u001b[0;34m(\u001b[0m\u001b[0;34m(\u001b[0m\u001b[0;36m3\u001b[0m\u001b[0;34m,\u001b[0m\u001b[0;36m4\u001b[0m\u001b[0;34m)\u001b[0m\u001b[0;34m)\u001b[0m\u001b[0;34m\u001b[0m\u001b[0;34m\u001b[0m\u001b[0m\n\u001b[0m",
      "\u001b[0;31mAttributeError\u001b[0m: 'function' object has no attribute 'T'"
     ]
    }
   ],
   "source": [
    "X = np.array([1,2,3,4])\n",
    "Y = np.ones((3,4))"
   ]
  },
  {
   "cell_type": "code",
   "execution_count": 160,
   "id": "5f331496",
   "metadata": {},
   "outputs": [
    {
     "data": {
      "text/plain": [
       "array([[1., 2., 3., 4.],\n",
       "       [1., 2., 3., 4.],\n",
       "       [1., 2., 3., 4.]])"
      ]
     },
     "execution_count": 160,
     "metadata": {},
     "output_type": "execute_result"
    }
   ],
   "source": [
    "X*Y"
   ]
  },
  {
   "cell_type": "markdown",
   "id": "65061101",
   "metadata": {},
   "source": [
    "* Lastly, the arrays can only be broadcast together if they are compatible in all dimensions. Consider the following example:"
   ]
  },
  {
   "cell_type": "code",
   "execution_count": 172,
   "id": "c246b22a",
   "metadata": {},
   "outputs": [],
   "source": [
    "x = np.ones([3,4])\n",
    "y = np.ones([3,1,4])"
   ]
  },
  {
   "cell_type": "code",
   "execution_count": 173,
   "id": "6ea14a80",
   "metadata": {},
   "outputs": [
    {
     "data": {
      "text/plain": [
       "array([[[2., 2., 2., 2.],\n",
       "        [2., 2., 2., 2.],\n",
       "        [2., 2., 2., 2.]],\n",
       "\n",
       "       [[2., 2., 2., 2.],\n",
       "        [2., 2., 2., 2.],\n",
       "        [2., 2., 2., 2.]],\n",
       "\n",
       "       [[2., 2., 2., 2.],\n",
       "        [2., 2., 2., 2.],\n",
       "        [2., 2., 2., 2.]]])"
      ]
     },
     "execution_count": 173,
     "metadata": {},
     "output_type": "execute_result"
    }
   ],
   "source": [
    "x + y"
   ]
  },
  {
   "cell_type": "code",
   "execution_count": 174,
   "id": "4e06a7d1",
   "metadata": {},
   "outputs": [
    {
     "name": "stdout",
     "output_type": "stream",
     "text": [
      "[[1. 1. 1. 1.]\n",
      " [1. 1. 1. 1.]\n",
      " [1. 1. 1. 1.]]\n"
     ]
    }
   ],
   "source": [
    "print(x)"
   ]
  },
  {
   "cell_type": "code",
   "execution_count": 175,
   "id": "ba9b1640",
   "metadata": {},
   "outputs": [
    {
     "name": "stdout",
     "output_type": "stream",
     "text": [
      "[[[1. 1. 1. 1.]]\n",
      "\n",
      " [[1. 1. 1. 1.]]\n",
      "\n",
      " [[1. 1. 1. 1.]]]\n"
     ]
    }
   ],
   "source": [
    "print(y)"
   ]
  },
  {
   "cell_type": "markdown",
   "id": "4125d93c",
   "metadata": {},
   "source": [
    "Но не всегда масивы удовлетворяют свойствам чтобы быть сопостовимыми."
   ]
  },
  {
   "cell_type": "markdown",
   "id": "6eac842b",
   "metadata": {},
   "source": [
    "<h1>Математика масивов</h1>"
   ]
  },
  {
   "cell_type": "markdown",
   "id": "5738b800",
   "metadata": {},
   "source": []
  }
 ],
 "metadata": {
  "kernelspec": {
   "display_name": "Python 3",
   "language": "python",
   "name": "python3"
  },
  "language_info": {
   "codemirror_mode": {
    "name": "ipython",
    "version": 3
   },
   "file_extension": ".py",
   "mimetype": "text/x-python",
   "name": "python",
   "nbconvert_exporter": "python",
   "pygments_lexer": "ipython3",
   "version": "3.8.8"
  }
 },
 "nbformat": 4,
 "nbformat_minor": 5
}
